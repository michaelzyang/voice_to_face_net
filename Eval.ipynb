{
 "cells": [
  {
   "cell_type": "code",
   "execution_count": 1,
   "metadata": {},
   "outputs": [],
   "source": [
    "import numpy as np\n",
    "import cv2\n",
    "#import os\n",
    "import matplotlib.pyplot as plt\n",
    "from scipy.linalg import sqrtm\n",
    "import random\n",
    "#import math"
   ]
  },
  {
   "cell_type": "code",
   "execution_count": 2,
   "metadata": {},
   "outputs": [],
   "source": [
    "# calculate frechet inception distance\n",
    "def calculate_fid(act1, act2):\n",
    "    # calculate mean and covariance statistics\n",
    "    mu1 = act1.mean(axis=0)\n",
    "    sigma1 = np.cov(act1, rowvar=False)\n",
    "    mu2 = act2.mean(axis=0)\n",
    "    sigma2 = np.cov(act2, rowvar=False)\n",
    "    \n",
    "    # calculate sum squared difference between means\n",
    "    ssdiff = np.sum((mu1 - mu2)**2.0)\n",
    "    \n",
    "    # calculate sqrt of product between cov\n",
    "    covmean = sqrtm(sigma1.dot(sigma2))\n",
    "    \n",
    "    # check and correct imaginary numbers from sqrt\n",
    "    if np.iscomplexobj(covmean):\n",
    "        covmean = covmean.real\n",
    "    \n",
    "    # calculate score\n",
    "    fid = ssdiff + np.trace(sigma1 + sigma2 - 2.0 * covmean)\n",
    "    return fid"
   ]
  },
  {
   "cell_type": "code",
   "execution_count": 57,
   "metadata": {},
   "outputs": [],
   "source": [
    "image = np.float64(cv2.imread('../Image pre-processing/voice_to_face_data/2d_photos/ADAPT128/140012.jpg',-1))\n",
    "image2 = np.float64(cv2.imread('../Image pre-processing/voice_to_face_data/2d_photos/ADAPT128/140017.jpg',-1))\n",
    "image3 = np.float64(cv2.imread('../Image pre-processing/voice_to_face_data/2d_photos/ADAPT128/140018.jpg',-1))\n",
    "image4 = np.float64(cv2.imread('../Image pre-processing/voice_to_face_data/2d_photos/ADAPT128/140022.jpg',-1))\n",
    "image5 = np.float64(cv2.imread('../Image pre-processing/voice_to_face_data/2d_photos/ADAPT128/140023.jpg',-1))\n",
    "image6 = np.float64(cv2.imread('../Image pre-processing/voice_to_face_data/2d_photos/ADAPT128/140025.jpg',-1))\n",
    "image7 = np.float64(cv2.imread('../Image pre-processing/voice_to_face_data/2d_photos/ADAPT128/140027.jpg',-1))\n",
    "image8 = np.float64(cv2.imread('../Image pre-processing/voice_to_face_data/2d_photos/ADAPT128/140028.jpg',-1))\n",
    "D = np.zeros((8,128,128))\n",
    "D[0] = image\n",
    "D[1] = image2\n",
    "D[2] = image3\n",
    "D[3] = image4\n",
    "D[4] = image5\n",
    "D[5] = image6\n",
    "D[6] = image7\n",
    "D[7] = image8\n",
    "img = np.ones((128,128))*255\n",
    "img[5:,:] = image[:123,:]\n",
    "img2 = np.ones((128,128))*255\n",
    "img2[5:,:] = image2[:123,:]\n",
    "img3 = np.ones((128,128))*255\n",
    "img3[5:,:] = image3[:123,:]\n",
    "img4 = np.ones((128,128))*255\n",
    "img4[5:,:] = image4[:123,:]\n",
    "img5 = np.ones((128,128))*255\n",
    "img5[5:,:] = image5[:123,:]\n",
    "img6 = np.ones((128,128))*255\n",
    "img6[5:,:] = image6[:123,:]\n",
    "img7 = np.ones((128,128))*255\n",
    "img7[5:,:] = image7[:123,:]\n",
    "img8 = np.ones((128,128))*255\n",
    "img8[5:,:] = image8[:123,:]\n"
   ]
  },
  {
   "cell_type": "code",
   "execution_count": 4,
   "metadata": {},
   "outputs": [
    {
     "data": {
      "text/plain": [
       "24918.19075209761"
      ]
     },
     "execution_count": 4,
     "metadata": {},
     "output_type": "execute_result"
    }
   ],
   "source": [
    "calculate_fid(img,image3)\n"
   ]
  },
  {
   "cell_type": "code",
   "execution_count": 45,
   "metadata": {},
   "outputs": [],
   "source": [
    "def lineup(generated, real_id, numFaces=3, dictionary=D):\n",
    "    \n",
    "    dict_size = dictionary.shape[0] #total number of face_ids\n",
    "    # Set up array of face_ids for the lineup\n",
    "    line_up = np.zeros(numFaces,dtype='int')\n",
    "    line_up[0] = real_id # the passed face will be first in line for simplicity\n",
    "    \n",
    "    # Generate a randomly ordered list of all possible face_ids\n",
    "    numbers = list(range(dict_size))\n",
    "    random.shuffle(numbers)\n",
    "    # Fill the lineup with random faces\n",
    "    for i in range(line_up.shape[0]-1):\n",
    "        temp = numbers.pop()\n",
    "        # Checking to make sure that the passed face is not represented twice\n",
    "        if (temp == real_id):\n",
    "            temp = numbers.pop()\n",
    "        line_up[i+1] = temp\n",
    "        \n",
    "    # Load the full faces for comparison using FID \n",
    "    faces = np.zeros((dictionary.shape[1],dictionary.shape[2],numFaces))\n",
    "    for i in range(line_up.shape[0]):\n",
    "        faces[:,:,i] = dictionary[line_up[i]]\n",
    "\n",
    "    # Calculate the FID between each real face and the generated face\n",
    "    errors = np.zeros(numFaces)\n",
    "    for i in range(numFaces):\n",
    "        errors[i] = calculate_fid(generated, faces[:,:,i])\n",
    "    \n",
    "    # minimum FID means the generated face is closest to real face\n",
    "    order = np.argsort(errors)\n",
    "    #change from 0-indexing to 1-indexing\n",
    "    result = order[0]+1\n",
    "    return result, errors[0]"
   ]
  },
  {
   "cell_type": "code",
   "execution_count": 56,
   "metadata": {},
   "outputs": [
    {
     "data": {
      "text/plain": [
       "(1, 1746.7000608478834)"
      ]
     },
     "execution_count": 56,
     "metadata": {},
     "output_type": "execute_result"
    }
   ],
   "source": [
    "lineup(img8, 7, 7)"
   ]
  },
  {
   "cell_type": "code",
   "execution_count": 15,
   "metadata": {},
   "outputs": [
    {
     "data": {
      "text/plain": [
       "8"
      ]
     },
     "execution_count": 15,
     "metadata": {},
     "output_type": "execute_result"
    }
   ],
   "source": [
    "gen = []\n",
    "rid = [0,1,2,3,4,5,6,7]\n",
    "gen.append(img)\n",
    "gen.append(img2)\n",
    "gen.append(img3)\n",
    "gen.append(img4)\n",
    "gen.append(img5)\n",
    "gen.append(img6)\n",
    "gen.append(img7)\n",
    "gen.append(img8)"
   ]
  },
  {
   "cell_type": "code",
   "execution_count": 23,
   "metadata": {},
   "outputs": [],
   "source": [
    "def evaluate (generated, real_id, numFaces=3):\n",
    "    num_faces = len(generated)\n",
    "    ranks = []\n",
    "    FID_errors = []\n",
    "    for i in range(num_faces):\n",
    "        rank, err = lineup(generated[i], real_id[i], numFaces)\n",
    "        ranks.append(rank)\n",
    "        FID_errors.append(err)\n",
    "    return ranks, FID_errors\n",
    "        "
   ]
  },
  {
   "cell_type": "code",
   "execution_count": 55,
   "metadata": {},
   "outputs": [],
   "source": [
    "r, f = evaluate(gen, rid, 3)"
   ]
  },
  {
   "cell_type": "code",
   "execution_count": 54,
   "metadata": {},
   "outputs": [
    {
     "name": "stdout",
     "output_type": "stream",
     "text": [
      "Top 1 suspect: 100.0%\n",
      "Top 2 suspect: 100.0%\n",
      "Top 3 suspect: 100.0%\n",
      "Average error: 389.2541773530024\n",
      "maximum error: 1746.7000608478834\n",
      "minimum error: 118.48598211047951\n"
     ]
    }
   ],
   "source": [
    "# Calculate metrics\n",
    "num_samples = len(r)\n",
    "# top 1\n",
    "t1 = r.count(1)\n",
    "# top 2\n",
    "t2 = t1 + r.count(2)\n",
    "# top 3\n",
    "t3 = t2 + r.count(3)\n",
    "print(\"Top 1 suspect: \" + str((t1/num_samples)*100) + \"%\")\n",
    "print(\"Top 2 suspect: \" + str((t2/num_samples)*100) + \"%\")\n",
    "print(\"Top 3 suspect: \" + str((t3/num_samples)*100) + \"%\")\n",
    "\n",
    "# Error metrics\n",
    "# Average Error\n",
    "print(\"Average error: \" + str(sum(f)/num_samples))\n",
    "# Max Error\n",
    "print(\"maximum error: \" + str(max(f)))\n",
    "# Min Error\n",
    "print(\"minimum error: \" + str(min(f)))"
   ]
  }
 ],
 "metadata": {
  "kernelspec": {
   "display_name": "Python 3",
   "language": "python",
   "name": "python3"
  },
  "language_info": {
   "codemirror_mode": {
    "name": "ipython",
    "version": 3
   },
   "file_extension": ".py",
   "mimetype": "text/x-python",
   "name": "python",
   "nbconvert_exporter": "python",
   "pygments_lexer": "ipython3",
   "version": "3.6.8"
  }
 },
 "nbformat": 4,
 "nbformat_minor": 2
}
